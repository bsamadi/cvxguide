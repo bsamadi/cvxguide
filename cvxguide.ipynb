{
 "cells": [
  {
   "cell_type": "markdown",
   "metadata": {},
   "source": [
    "$\\DeclareMathOperator{\\sign}{sgn}$\n",
    "$\\newcommand{\\CO}{\\textbf{\\rm conv}}$\n",
    "$\\newcommand{\\RR}{{\\mathcal R}}$\n",
    "$\\newcommand{\\RE}{\\mathbb{R}}$\n",
    "$\\newcommand{\\TR}{\\text{T}}$\n",
    "$\\newcommand{\\beq}{\\begin{equation}}$\n",
    "$\\newcommand{\\eeq}{\\end{equation}}$\n",
    "$\\newcommand{\\bmat}{\\left[\\begin{array}}$\n",
    "$\\newcommand{\\emat}{\\end{array}\\right]}$\n",
    "$\\newcommand{\\bsmat}{\\left[\\begin{smallmatrix}}$\n",
    "$\\newcommand{\\esmat}{\\end{smallmatrix}\\right]}$\n",
    "$\\newcommand{\\barr}{\\begin{array}}$\n",
    "$\\newcommand{\\earr}{\\end{array}}$\n",
    "$\\newcommand{\\bsm}{\\begin{smallmatrix}}$\n",
    "$\\newcommand{\\esm}{\\end{smallmatrix}}$"
   ]
  },
  {
   "cell_type": "markdown",
   "metadata": {},
   "source": [
    "# Convex Optimization: A Practical Guide"
   ]
  },
  {
   "cell_type": "markdown",
   "metadata": {},
   "source": [
    "Behzad Samadi\n",
    "\n",
    "http://www.mechatronics3d.com/"
   ]
  },
  {
   "cell_type": "markdown",
   "metadata": {},
   "source": [
    "February 2, 2014"
   ]
  },
  {
   "cell_type": "markdown",
   "metadata": {},
   "source": [
    "## Introduction"
   ]
  },
  {
   "cell_type": "markdown",
   "metadata": {},
   "source": [
    "Optimization problems happen in many fields including engineering, economics and medicine.\n",
    "The objective of many engineering problems is to design \"the best\" product.\n",
    "\"The best\" needs a formal definition that is not subject to personal judgement as much as possible. In a mathematical optimization, the objective function defines \"the best\". The objective function can be the description of a cost function we want to minimize or it can be a quantified description of the product's fitness, which is required to be maximized.\n",
    "We live in a real world with lots of constraints. The energy is not free. The time we can spend to design the product is limited. The computation power we have is limited. The size, weight and price of the product is limited. Therefore, the optimization problems are usually defined as minimizing or maximizing an objective function considering a set of constraints. In this text, we focus on a certain class of optimization problems: convex optimization. The main importance of convex optimization problems is that there is no locally optimum point. If a given point is locally optimal then it is globally optimal. In addition, there exist effective numerical methods to solve convex optimization problems. In addition, it is possible to convert many nonconvex optimization problems to convex problems by changing the variables or introducing new variables. In this text, we will review what convex sets, functions and optimization problems are. Also, we show you numerical examples and applications of convex optimization in control systems. Also, there are many examples with the corresponding code in Python to help the reader understand how the problems are solved in practive. The Python code is based on [cvxpy](https://github.com/cvxgrp/cvxpy)."
   ]
  },
  {
   "cell_type": "markdown",
   "metadata": {},
   "source": [
    "In the following, the definitions are taken from [1] unless otherwise stated. The reader is referred to the [Convex Optimization book by\n",
    "Stephen Boyd and Lieven Vandenberghe](http://www.stanford.edu/~boyd/cvxbook/) for a detailed review of the theory of convex optimization and applications."
   ]
  },
  {
   "cell_type": "markdown",
   "metadata": {},
   "source": [
    "## Convex Sets"
   ]
  },
  {
   "cell_type": "markdown",
   "metadata": {},
   "source": [
    "*Definition. Convex combination:* Given $m$ points in $\\RR^n$ denoted by $x_i$ for $i=1,\\ldots,m$, $x$ is a convex combination of the $m$ points if it can be written as:\n",
    "\\begin{equation}\n",
    "x = \\sum_{i=1}^m \\lambda_ix_i\n",
    "\\end{equation}\n",
    "where $\\lambda_i\\geq 0$ and\n",
    "\\begin{equation}\n",
    "\\sum_{i=1}^m\\lambda_i=1\n",
    "\\end{equation}\n",
    "\n",
    "*Definition. Convex set:* A set $C\\subseteq\\RR^n$ is convex if the convex combination of any two points in $C$ belongs to $C$.\n",
    "\n",
    "*Definition. Convex hull:* The convex hull of a set $S$, denoted by $\\text{conv}(S)$, is the set of all convex combinations of points in $S$.\n",
    "\n",
    "*Definition. Affine combination:* $x$ is an affine combination of $x_1$ and $x_2$ if it can be written as:\n",
    "\\begin{equation}\n",
    "x=\\lambda_1x_1+\\lambda_2x_2\n",
    "\\end{equation}\n",
    "\n",
    "*Definition. Affine set:* A set $C\\subseteq\\RR^n$ is affine if the affine combination of any two points in $C$ belongs to $C$.\n",
    "\n",
    "*Definition. Cone (nonnegative) combination:* Cone combination of two points $x_1$ and $x_2$ is a point $x$ that can be written as:\n",
    "\\begin{equation}\n",
    "x=\\theta_1x_1+\\theta_2x_2\n",
    "\\end{equation}\n",
    "with $\\theta_1\\geq 0$ and $\\theta_2\\geq 0$.\n",
    "\n",
    "*Definition. Convex cone:* A set $S$ is a convex cone, if it contains all convex combinations of points in the set.\n",
    "\n",
    "*Definition. Hyperplane:* A hyperplane is a set of the form $\\{x|a^\\text{T}x=b\\}$ with $a\\neq 0$. \n",
    "\n",
    "*Definition. Halfspace:* A halfspace is a set of the form $\\{x|a^\\text{T}x\\leq b\\}$ with $a\\neq 0$.\n",
    "\n",
    "*Definition. Polyhedron:* A polyhedron is the intersection of finite number of hyperplanes and halfspaces. A polyhedron can be written as:\n",
    "\\begin{equation}\n",
    "\\mathcal{P}=\\{x| Ax \\preceq b, Cx=d \\}\n",
    "\\end{equation}\n",
    "where $\\preceq$ denotes componentwise inequality.\n",
    "\n",
    "*Definition. Euclidean ball:* A ball with center $x_c$ and radius $r$ is defined as:\n",
    "\\begin{equation}\n",
    "B(x_c,r)=\\{x| \\|x-x_c\\|_2\\leq r\\}=\\{x| x=x_c+ru, \\|u\\|_2\\leq r\\}\n",
    "\\end{equation}\n",
    "\n",
    "*Definition. Ellipsoid:* An ellipsoid is defined as:\n",
    "\\begin{equation}\n",
    "\\{x | (x-x_c)^\\text{T}P^{-1}(x-x_c)\\leq 1\\}\n",
    "\\end{equation}\n",
    "where $P$ is a positive definite matrix. It can also be defined as:\n",
    "\\begin{equation}\n",
    "\\{x| x=x_c+Au, \\|u\\|_2\\leq r\\}\n",
    "\\end{equation}"
   ]
  },
  {
   "cell_type": "markdown",
   "metadata": {},
   "source": [
    "### Generalized inequalities"
   ]
  },
  {
   "cell_type": "markdown",
   "metadata": {},
   "source": [
    "*Definition. Proper code:* A cone is proper if it is closed (contains its boundary), solid (has nonempty interior) and pointed (contains no lines).\n",
    "\n",
    "The nonnegative orthant of $\\mathbb{R}^n$, $\\{x|x\\in\\mathbb{R}^n,x_i\\geq 0, i=1,\\ldots,n \\}$ is a proper cone. Also the cone of positive semidefinite matrices in $\\mathbb{R}^{n\\times n}$ is a proper cone.\n",
    "\n",
    "*Definition. Generalized inequality:* A generalized inequality is defined by a proper cone $K$:\n",
    "\\begin{equation}\n",
    "x\\preceq_K y \\Leftrightarrow y-x\\in K\n",
    "\\end{equation}\n",
    "\\begin{equation}\n",
    "x\\prec_K y \\Leftrightarrow y-x\\in \\text{interior}(K)\n",
    "\\end{equation}\n",
    "\n",
    "In this context, we deal with the following inequalities:\n",
    "\n",
    "- The inequality on real numbers is defined based on the proper cone of nonnegative real numbers $K=\\mathbb{R}_+$.\n",
    "- The componentwise inequality on real vectors in $\\mathbb{R}^n$ is defined based on the nonnegative orthant $K=\\mathbb{R}^n_+$.\n",
    "- The matrix inequality is defined based on the proper cone of positive semidefinite matrices $K=S^n_+$."
   ]
  },
  {
   "cell_type": "markdown",
   "metadata": {},
   "source": [
    "## Convex Functions"
   ]
  },
  {
   "cell_type": "markdown",
   "metadata": {},
   "source": [
    "*Definition. Convex function:* A function $f:X_D \\rightarrow X_R$ with $X_D\\subseteq\\RR^n$ and $X_R\\subseteq\\RR$ is a convex function if for any $x_1$ and $x_2$ in $X_D$ and $\\lambda_1 \\geq 0$, $\\lambda_2 \\geq 0$ such that $\\lambda_1+\\lambda_2=1$, we have:\n",
    "\\begin{equation}\n",
    "f(\\lambda_1x_1+\\lambda_2x_2)\\leq \\lambda_1f(x_1)+\\lambda_2f(x_2)\n",
    "\\end{equation}"
   ]
  },
  {
   "cell_type": "markdown",
   "metadata": {},
   "source": [
    "## Convex Optimization"
   ]
  },
  {
   "cell_type": "markdown",
   "metadata": {},
   "source": [
    "A mathematical optimization is convex if the objective is a convex function and the feasible set is a convex set. The standard form of a convex optimization problem is:\n",
    "\\begin{align}\n",
    "\\text{minimize }   & f_0(x) \\nonumber\\\\\n",
    "\\text{subject to } & f_i(x) \\leq 0,\\ i=1,\\ldots,m\\nonumber\\\\\n",
    "                  & h_i(x) = 0,\\ i=1,\\ldots,p\n",
    "\\end{align}"
   ]
  },
  {
   "cell_type": "markdown",
   "metadata": {},
   "source": [
    "### Linear Program"
   ]
  },
  {
   "cell_type": "markdown",
   "metadata": {},
   "source": [
    "Linear programming (LP) is one of the best known forms of convex optimization. A LP problem can be written as:\n",
    "\\begin{align}\\label{LP}\n",
    "\\text{minimize }&c^\\text{T}x\\nonumber\\\\\n",
    "\\text{subject to }&a_i^\\text{T}x\\leq b_i,\\ i=1,\\ldots,m\n",
    "\\end{align}\n",
    "where $x$, $c$ and $a_i$ for $i=1,\\ldots,m$ belong to $\\mathbb{R}^n$. In general, there is no analytical solution for a LP\n",
    "problem. A numerical algorithm is therefore required to solve the problem. The earliest algorithms for solving LP problems were the one developed by Kantorovich in 1940 \\cite{Kantorovich40} and the simplex method proposed by George Dantzig in 1947 \\cite{Dantzig91}. In 1978, the Russian mathematician L. G. Khachian developed a polynomial-time algorithm for solving linear programsthe Russian mathematician L. G. Khachian developed a polynomial-time algorithm for solving LP problems. This algorithm was an interior method, which was later improved by Karmarkar \\cite{Karmarkar84}.\n",
    "\n",
    "If some of the entries of $x$ are required to be integers, we have a Mixed Integer Linear Programming (MILP) program. A MILP problem is in general difficult to solve (non-convex and NP-complete). However, in practice, the global optimum can be found for many useful MILP problems.\n",
    "\n",
    "In general, the feasible set of a linear programming is a polyhedron. The objective function defines a family of parallel hyperplanes. The optimal value for the objective function is the lowest value corresponding to a hyperplane that has a non-empty intersection with the feasible set polyhedron. The intersection can be a vertice or edge or any higher dimensional faces. Therefore, the optimal value of the objective function is unique but the optimal solution, $x^\\star$, is not."
   ]
  },
  {
   "cell_type": "markdown",
   "metadata": {},
   "source": [
    "*Example:* Consider the following LP problem (LP1):\n",
    "\n",
    "\\begin{align}\n",
    " \\text{maximize: }   & x + y\\nonumber\\\\\n",
    " \\text{Subject to: } & x + y \\geq -1 \\\\\n",
    " \\text{}             & \\frac{x}{2}-y \\geq -2\\nonumber\\\\\n",
    " \\text{}             & 2x-y  \\leq -4\\nonumber\n",
    "\\end{align}\n",
    "\n",
    "In order to solve this LP problem in Python, we need to import the required modules:"
   ]
  },
  {
   "cell_type": "code",
   "execution_count": 22,
   "metadata": {},
   "outputs": [
    {
     "name": "stdout",
     "output_type": "stream",
     "text": [
      "Populating the interactive namespace from numpy and matplotlib\n"
     ]
    }
   ],
   "source": [
    "import numpy as np\n",
    "from pylab import *\n",
    "import matplotlib as mpl\n",
    "import cvxopt as co\n",
    "import cvxpy as cp\n",
    "%pylab --no-import-all inline"
   ]
  },
  {
   "cell_type": "markdown",
   "metadata": {},
   "source": [
    "The next step is to define the optimization variables:"
   ]
  },
  {
   "cell_type": "code",
   "execution_count": 23,
   "metadata": {},
   "outputs": [],
   "source": [
    "x = cp.Variable(1)\n",
    "y = cp.Variable(1)"
   ]
  },
  {
   "cell_type": "markdown",
   "metadata": {},
   "source": [
    "The constraints are then added:"
   ]
  },
  {
   "cell_type": "code",
   "execution_count": 24,
   "metadata": {},
   "outputs": [],
   "source": [
    "constraints = [     x+y >= -1.,\n",
    "\t\t        0.5*x-y >= -2.,\n",
    "                  2.*x-y <= 4.]"
   ]
  },
  {
   "cell_type": "markdown",
   "metadata": {},
   "source": [
    "Then, the objective function and the optimization problem are defined as:"
   ]
  },
  {
   "cell_type": "code",
   "execution_count": 25,
   "metadata": {},
   "outputs": [],
   "source": [
    "objective = cp.Maximize(x+y)\n",
    "p = cp.Problem(objective, constraints)"
   ]
  },
  {
   "cell_type": "markdown",
   "metadata": {},
   "source": [
    "The solution of the LP problem is computed with the following command:"
   ]
  },
  {
   "cell_type": "code",
   "execution_count": 26,
   "metadata": {},
   "outputs": [
    {
     "name": "stdout",
     "output_type": "stream",
     "text": [
      "8.0\n"
     ]
    }
   ],
   "source": [
    "result = p.solve()\n",
    "print(round(result,5))"
   ]
  },
  {
   "cell_type": "markdown",
   "metadata": {},
   "source": [
    "The optimal solution is now given by:"
   ]
  },
  {
   "cell_type": "code",
   "execution_count": 27,
   "metadata": {},
   "outputs": [
    {
     "name": "stdout",
     "output_type": "stream",
     "text": [
      "[4.]\n"
     ]
    }
   ],
   "source": [
    "x_star = x.value\n",
    "print(np.round(x_star,5))"
   ]
  },
  {
   "cell_type": "code",
   "execution_count": 28,
   "metadata": {},
   "outputs": [
    {
     "name": "stdout",
     "output_type": "stream",
     "text": [
      "[4.]\n"
     ]
    }
   ],
   "source": [
    "y_star = y.value\n",
    "print(np.round(y_star,5))"
   ]
  },
  {
   "cell_type": "markdown",
   "metadata": {},
   "source": [
    "The feasible set of the LP problem (ref{LP1}) is shown in Figure ref{LPfeas}, which is drawn using the following commands:"
   ]
  },
  {
   "cell_type": "code",
   "execution_count": 29,
   "metadata": {},
   "outputs": [
    {
     "data": {
      "image/png": "[encoded data removed]",
      "text/plain": [
       "<matplotlib.figure.Figure at 0x7fd8970465f8>"
      ]
     },
     "metadata": {
      "needs_background": "light"
     },
     "output_type": "display_data"
    }
   ],
   "source": [
    "xp = np.array([-3, 6])\n",
    "# plot the constraints\n",
    "plt.plot(xp, -xp-1, xp, 0.5*xp+2, xp, 2*xp-4) \n",
    "# Draw the lines\n",
    "plt.plot(xp, -xp+4, xp, -xp+8)\n",
    "# Draw the feasible set (filled triangle)\n",
    "path = mpl.path.Path([[4, 4], [1, -2], [-2, 1], [4, 4]])            \n",
    "patch = mpl.patches.PathPatch(path, facecolor='green')               \n",
    "# Add the triangle to the plot\n",
    "plt.gca().add_patch(patch)                                          \n",
    "plt.xlabel('x')\n",
    "plt.ylabel('y')\n",
    "plt.title('Feasible Set of a Linear Program')\n",
    "plt.xlim(-3,6)\n",
    "plt.ylim(-5,5)\n",
    "plt.text(2, -4.5, \"x+y=-1\")\n",
    "plt.text(3.5, -0.75, \"x+y=4\")\n",
    "plt.text(4.5, 2.25, \"x+y=8\")\n",
    "plt.show()"
   ]
  },
  {
   "cell_type": "markdown",
   "metadata": {},
   "source": [
    "Now, to solve the following LP problem (LP2):\n",
    "\n",
    "\\begin{align}\n",
    " \\text{minimize: }   & x + y\\nonumber\\\\\n",
    " \\text{Subject to: } & x + y \\geq -1 \\\\\n",
    " \\text{}             & \\frac{x}{2}-y \\leq -2\\nonumber\\\\\n",
    " \\text{}             & 2x-y  \\leq -4\\nonumber\n",
    "\\end{align}\n",
    "\n",
    "we change the objective function in the code:"
   ]
  },
  {
   "cell_type": "code",
   "execution_count": 30,
   "metadata": {},
   "outputs": [],
   "source": [
    "objective = cp.Minimize(x+y)\n",
    "p = cp.Problem(objective, constraints)"
   ]
  },
  {
   "cell_type": "code",
   "execution_count": 31,
   "metadata": {},
   "outputs": [
    {
     "name": "stdout",
     "output_type": "stream",
     "text": [
      "-1.0\n"
     ]
    }
   ],
   "source": [
    "result = p.solve()\n",
    "print(round(result,5))"
   ]
  },
  {
   "cell_type": "markdown",
   "metadata": {},
   "source": [
    "The optimal solution is now given by:"
   ]
  },
  {
   "cell_type": "code",
   "execution_count": 32,
   "metadata": {},
   "outputs": [
    {
     "name": "stdout",
     "output_type": "stream",
     "text": [
      "[0.09705]\n"
     ]
    }
   ],
   "source": [
    "x_star = x.value\n",
    "print(np.round(x_star,5))"
   ]
  },
  {
   "cell_type": "code",
   "execution_count": 33,
   "metadata": {},
   "outputs": [
    {
     "name": "stdout",
     "output_type": "stream",
     "text": [
      "[-1.09705]\n"
     ]
    }
   ],
   "source": [
    "y_star = y.value\n",
    "print(np.round(y_star,5))"
   ]
  },
  {
   "cell_type": "markdown",
   "metadata": {},
   "source": [
    "In this case the optimzal value of the objective function is unique. However, it can be seen in Figure ref{LPfeas} that any point on the line connecting the two points (-2,1) and (1,-2) including the point (0.49742,-1.49742) can be the optimal solution. Therefore, the LP problem ref{LP2} has infinite optimal solutions. The code, however, returns just one of the optimal solutions."
   ]
  },
  {
   "cell_type": "markdown",
   "metadata": {},
   "source": [
    "*Example:* Finding the Chebyshev center of a polyhedron is an example of optimization problems that can be solved using LP \\cite{cvx}. However, the original description of the problem is not in LP form. Consider the following polyhedron:\n",
    "\\begin{equation}\n",
    "\\mathcal{P} = \\{x | a_i^Tx \\leq b_i, i=1,...,m \\}\n",
    "\\end{equation}\n",
    "The Chebyshev center of $\\mathcal{P}$ is the center of the largest ball in $\\mathcal{P}$:\n",
    "\\begin{equation}\n",
    "\\mathcal{B}=\\{x|\\|x-x_c\\|\\leq r\\}\n",
    "\\end{equation}\n",
    "In order for $\\mathcal{B}$ to be inside $\\mathcal{P}$, we need to have $a_i^Tx\\leq b_i$ for all $x$ in $\\mathcal{B}$ and all $i$ from $1$ to $m$. For each $i$, the point with the largest value of $a_i^Tx$ is:\n",
    "$$x^\\star=x_c+\\frac{r}{\\sqrt{a_i^Ta_i}}a_i=x_c+\\frac{r}{\\|a_i\\|_2}a_i$$\n",
    "Therefore, if we have:\n",
    "$$a_i^Tx_c+r\\|a_i\\|_2\\leq b_i$$\n",
    "for all $i=1,..,m$ then $\\mathcal{B}$ is inside $\\mathcal{P}$. Now, we can write the problem as the following LP problem (LP3):\n",
    "\\begin{align}\n",
    " \\text{maximize: }   & r\\nonumber\\\\\n",
    " \\text{Subject to: } & a_i^Tx_c + r\\|a_i\\|_2 \\leq b_i,\\ i=1,..,m\n",
    "\\end{align}\n",
    "As a numerical example, consider a polyhedron $\\mathcal{P}$ where:\n",
    "\\begin{align}\n",
    "a_1 =&[-1,-1]^T,\\ b_1=1\\nonumber\\\\\n",
    "a_2 =&[-1/2,1]^T,\\ b_2=2\\nonumber\\\\\n",
    "a_3 =&[2,-1]^T,\\ b_3=4\\nonumber\n",
    "\\end{align}\n",
    "This is a triangle. The Chebyshev center of this triangle is computed as:"
   ]
  },
  {
   "cell_type": "code",
   "execution_count": 34,
   "metadata": {},
   "outputs": [],
   "source": [
    "r = cp.Variable(1)\n",
    "xc = cp.Variable(2)\n",
    "\n",
    "a1 = co.matrix([-1,-1], (2,1))\n",
    "a2 = co.matrix([-0.5,1], (2,1))\n",
    "a3 = co.matrix([2,-1], (2,1))\n",
    "\n",
    "b1 = 1\n",
    "b2 = 2\n",
    "b3 = 4\n",
    "\n",
    "constraints = [ a1.T*xc + np.linalg.norm(a1, 2)*r <= b1,\n",
    "\t\t\t\ta2.T*xc + np.linalg.norm(a2, 2)*r <= b2,\n",
    "\t\t\t\ta3.T*xc + np.linalg.norm(a3, 2)*r <= b3 ]\n",
    "\n",
    "objective = cp.Maximize(r)\n",
    "\n",
    "p = cp.Problem(objective, constraints)\n",
    "result = p.solve()"
   ]
  },
  {
   "cell_type": "markdown",
   "metadata": {},
   "source": [
    "The radius of the ball is:"
   ]
  },
  {
   "cell_type": "code",
   "execution_count": 35,
   "metadata": {},
   "outputs": [
    {
     "name": "stdout",
     "output_type": "stream",
     "text": [
      "[1.5289612]\n"
     ]
    }
   ],
   "source": [
    "print(r.value)"
   ]
  },
  {
   "cell_type": "markdown",
   "metadata": {},
   "source": [
    "and the Chebyshev center is located at:"
   ]
  },
  {
   "cell_type": "code",
   "execution_count": 36,
   "metadata": {},
   "outputs": [
    {
     "name": "stdout",
     "output_type": "stream",
     "text": [
      "[0.58113883 0.58113883]\n"
     ]
    }
   ],
   "source": [
    "print(xc.value)"
   ]
  },
  {
   "cell_type": "markdown",
   "metadata": {},
   "source": [
    "The triangle and the largest circle that it can include are depicted in Figure ref{Cheb} using the following commands:"
   ]
  },
  {
   "cell_type": "code",
   "execution_count": 37,
   "metadata": {},
   "outputs": [
    {
     "data": {
      "image/png": "[encoded data removed]",
      "text/plain": [
       "<matplotlib.figure.Figure at 0x7fd89707d6d8>"
      ]
     },
     "metadata": {
      "needs_background": "light"
     },
     "output_type": "display_data"
    }
   ],
   "source": [
    "xp = np.linspace(-3, 5, 256)\n",
    "theta = np.linspace(0,2*np.pi,100)\n",
    "\n",
    "# plot the constraints\n",
    "plt.plot( xp, -xp*a1[0]/a1[1] + b1/a1[1])\n",
    "plt.plot( xp, -xp*a2[0]/a2[1] + b2/a2[1])\n",
    "plt.plot( xp, -xp*a3[0]/a3[1] + b3/a3[1])\n",
    "\n",
    "\n",
    "# plot the solution\n",
    "plt.plot( xc.value[0] + r.value*cos(theta), xc.value[1] + r.value*sin(theta) )\n",
    "plt.plot( xc.value[0], xc.value[1], 'x', markersize=10 )\n",
    "\n",
    "plt.title('Chebyshev Center')\n",
    "plt.xlabel('x1')\n",
    "plt.ylabel('x2')\n",
    "plt.axis([-3, 5, -3, 5])\n",
    "plt.show()"
   ]
  },
  {
   "cell_type": "markdown",
   "metadata": {},
   "source": [
    "### Generalized linear fractional program"
   ]
  },
  {
   "cell_type": "markdown",
   "metadata": {},
   "source": [
    "A linear fractional program is defined as (LFP):\n",
    "\\begin{align}\n",
    "\\text{minimize }&f_0(x)\\nonumber\\\\\n",
    "\\text{subject to }&a_i^\\text{T}x\\leq b_i,\\ i=1,\\ldots,m\\nonumber\\\\\n",
    "                  &h_i^\\text{T}x = g_i,\\ i=1,\\ldots,p\n",
    "\\end{align}\n",
    "with $f_0(x)=\\frac{c^\\text{T}x+d}{e^\\text{T}x+f}$ and $\\text{dom}f_0(x)=\\{x|e^\\text{T}x+f > 0\\}$. The problem (ref{LFP}) can be rewritten as:\n",
    "\\begin{align}\n",
    "\\text{minimize }&\\frac{c^\\text{T}x+d}{e^\\text{T}x+f}\\nonumber\\\\\n",
    "\\text{subject to }&e^\\text{T}x+f > 0\\nonumber\\\\\n",
    "                  &a_i^\\text{T}x\\leq b_i,\\ i=1,\\ldots,m\\nonumber\\\\\n",
    "                  &h_i^\\text{T}x = g_i,\\ i=1,\\ldots,p\n",
    "\\end{align}\n",
    "is a quasilinear (both quasiconvex and quasiconcave) optimization problem. To solve the problem using the bisection method, we need to write it as:\n",
    "\\begin{align}\n",
    "\\text{minimize }&t\\nonumber\\\\\n",
    "\\text{subject to }&c^\\text{T}x+d\\leq t(e^\\text{T}x+f)\\nonumber\\\\\n",
    "                  &e^\\text{T}x+f > 0\\nonumber\\\\\n",
    "                  &a_i^\\text{T}x\\leq b_i,\\ i=1,\\ldots,m\\nonumber\\\\\n",
    "                  &h_i^\\text{T}x = g_i,\\ i=1,\\ldots,p\n",
    "\\end{align}\n",
    "For a fixed $t$, the above problem is a LP feasibility problem. Therefore, the bisection method can be used to find the smallest possible $t$ within acceptable accuracy.\n",
    "\n",
    "Another approach is introduce auxiliary variables $y$ and $z$:\n",
    "\\begin{align}\n",
    "y =& \\frac{x}{e^\\text{T}x+f}\\nonumber\\\\\n",
    "z =& \\frac{1}{e^\\text{T}x+f}\n",
    "\\end{align}\n",
    "Then the optimization problem (ref{LFP}) can be written as the following LP problem:\n",
    "\\begin{align}\n",
    "\\text{minimize }&c^\\text{T}y+dz\\nonumber\\\\\n",
    "\\text{subject to }&z > 0\\nonumber\\\\\n",
    "                  &e^\\text{T}y+fz=1\\nonumber\\\\\n",
    "                  &a_i^\\text{T}y\\leq b_iz,\\ i=1,\\ldots,m\\nonumber\\\\\n",
    "                  &h_i^\\text{T}y = g_iz,\\ i=1,\\ldots,p\n",
    "\\end{align}\n",
    "Therefore, linear fractional programs can be converted to convex optimization problems.\n",
    "\n",
    "A closely related class of optimization problems is the generalized linear fraction problems formulated as (GLFP):\n",
    "\\begin{align}\n",
    "\\text{minimize }&f_0(x)\\nonumber\\\\\n",
    "\\text{subject to }&a_i^\\text{T}x\\leq b_i,\\ i=1,\\ldots,m\\nonumber\\\\\n",
    "                  &h_i^\\text{T}x = g_i,\\ i=1,\\ldots,p\n",
    "\\end{align}\n",
    "where:\n",
    "\\begin{equation}\n",
    "f_0(x)=\\max_{i=1,\\ldots,r} \\frac{c_i^\\text{T}x+d_i}{e_i^\\text{T}x+f_i}\n",
    "\\end{equation}\n",
    "and the domain of $f_0(x)$ is defined as:\n",
    "\\begin{equation}\n",
    "\\text{dom}f_0(x)=\\{x|e_i^\\text{T}x+f_i > 0, \\text{for }i=1,\\ldots,r\\}\n",
    "\\end{equation}\n"
   ]
  },
  {
   "cell_type": "markdown",
   "metadata": {},
   "source": [
    "### Quadratic program"
   ]
  },
  {
   "cell_type": "markdown",
   "metadata": {},
   "source": [
    "A quadratic programming (QP) optimization problem is described as:\n",
    "\\begin{align}\n",
    "\\text{minimize }&\\frac{1}{2}x^\\text{T}Px+q^\\text{T}x+r\\nonumber\\\\\n",
    "\\text{subject to }&Gx \\preccurlyeq h \\nonumber\\\\\n",
    "                  &Ax = b\n",
    "\\end{align}\n",
    "$P$ is assumed to be positive semidefinite. The feasible set of QP is a polygon and the objective function is a convex quadratic function.\n",
    "\n",
    "If the objective function is quadratic and the constraints include quadratic constraints, then we have a quadratically constrained quadratic program (QCQP):\n",
    "\\begin{align}\n",
    "\\text{minimize }&\\frac{1}{2}x^\\text{T}P_0x+q_0^\\text{T}x+r_0\\nonumber\\\\\n",
    "\\text{subject to }&\\frac{1}{2}x^\\text{T}P_ix+q_i^\\text{T}x+r_i\\leq 0,\\ i=1\\cdots,m \\nonumber\\\\\n",
    "                  &Ax = b\n",
    "\\end{align}\n",
    "where $P_i$ for $i=0,\\cdots,m$ are positive semidefinite."
   ]
  },
  {
   "cell_type": "markdown",
   "metadata": {},
   "source": [
    "*Example:* Consider the set of linear equations $Ax=b$ for the case when $A$ has more rows than columns. Finding an $x$ where the equality is exactly satisfied is in general impossible. However, there is a solution for an $x$ that minimizes the cost function $e^\\text{T}e$ where $e=Ax-b$. The solution is even analytic and it can be written as:\n",
    "\\begin{equation}\n",
    "x^\\star = (A^\\text{T}A)^{-1}A^\\text{T}\n",
    "\\end{equation}\n",
    "However, after adding linear constraints on $x$, the optimization problem does not have an analytic solution:\n",
    "\\begin{align}\n",
    "\\text{minimize }&(Ax-b)^\\text{T}(Ax-b)\\nonumber\\\\\n",
    "\\text{subject to }&Gx \\preccurlyeq h \\nonumber\\\\\n",
    "\\end{align}\n",
    "As a numerical example, consider:\n",
    "\\begin{equation}\n",
    "A = \\bmat{cc} 1 & 1 \\\\ 2 & 1\\\\ 3 & 2 \\emat,\\ b=\\bmat{c} 2\\\\ 3 \\\\ 4\\emat\n",
    "\\end{equation}\n",
    "The analytical answer to $Ax=b$ is computed as:"
   ]
  },
  {
   "cell_type": "code",
   "execution_count": 38,
   "metadata": {},
   "outputs": [
    {
     "name": "stdout",
     "output_type": "stream",
     "text": [
      "[[1.        ]\n",
      " [0.66666667]]\n"
     ]
    }
   ],
   "source": [
    "A = np.array([[1,1],[2,1],[3,2]])\n",
    "b = np.array([[2], [3], [4]])\n",
    "xs = np.dot(np.linalg.pinv(A),b)\n",
    "print(xs)"
   ]
  },
  {
   "cell_type": "markdown",
   "metadata": {},
   "source": [
    "A similar result can be reached by solving the following QP problem:"
   ]
  },
  {
   "cell_type": "code",
   "execution_count": 39,
   "metadata": {},
   "outputs": [],
   "source": [
    "x = cp.Variable((2,1))\n",
    "I = np.identity(3)\n",
    "objective = cp.Minimize(  cp.quad_form(A@x-b, I) )\n",
    "\n",
    "p = cp.Problem(objective)"
   ]
  },
  {
   "cell_type": "markdown",
   "metadata": {},
   "source": [
    "The optimal value of the objective function is:"
   ]
  },
  {
   "cell_type": "code",
   "execution_count": 40,
   "metadata": {},
   "outputs": [
    {
     "name": "stdout",
     "output_type": "stream",
     "text": [
      "0.3333333333333337\n"
     ]
    }
   ],
   "source": [
    "result = p.solve()\n",
    "print(result)"
   ]
  },
  {
   "cell_type": "markdown",
   "metadata": {},
   "source": [
    "and the optimal solution is:"
   ]
  },
  {
   "cell_type": "code",
   "execution_count": 41,
   "metadata": {},
   "outputs": [
    {
     "name": "stdout",
     "output_type": "stream",
     "text": [
      "[[1.        ]\n",
      " [0.66666667]]\n"
     ]
    }
   ],
   "source": [
    "print(x.value)"
   ]
  },
  {
   "cell_type": "markdown",
   "metadata": {},
   "source": [
    "Now, we can add linear constraints and find the optimal solution by solving the QP problem:"
   ]
  },
  {
   "cell_type": "code",
   "execution_count": 42,
   "metadata": {},
   "outputs": [
    {
     "ename": "ValueError",
     "evalue": "operands could not be broadcast together with shapes (1,3) (3,2) ",
     "output_type": "error",
     "traceback": [
      "\u001b[0;31m---------------------------------------------------------------------------\u001b[0m",
      "\u001b[0;31mValueError\u001b[0m                                Traceback (most recent call last)",
      "\u001b[0;32m<ipython-input-42-ccc556d756a0>\u001b[0m in \u001b[0;36m<module>\u001b[0;34m\u001b[0m\n\u001b[1;32m      1\u001b[0m \u001b[0mx\u001b[0m \u001b[0;34m=\u001b[0m \u001b[0mcp\u001b[0m\u001b[0;34m.\u001b[0m\u001b[0mVariable\u001b[0m\u001b[0;34m(\u001b[0m\u001b[0;36m2\u001b[0m\u001b[0;34m)\u001b[0m\u001b[0;34m\u001b[0m\u001b[0;34m\u001b[0m\u001b[0m\n\u001b[1;32m      2\u001b[0m \u001b[0;34m\u001b[0m\u001b[0m\n\u001b[0;32m----> 3\u001b[0;31m \u001b[0mobjective\u001b[0m \u001b[0;34m=\u001b[0m \u001b[0mcp\u001b[0m\u001b[0;34m.\u001b[0m\u001b[0mMinimize\u001b[0m\u001b[0;34m(\u001b[0m  \u001b[0mb\u001b[0m\u001b[0;34m.\u001b[0m\u001b[0mT\u001b[0m\u001b[0;34m*\u001b[0m\u001b[0mb\u001b[0m \u001b[0;34m-\u001b[0m \u001b[0;36m2\u001b[0m\u001b[0;34m*\u001b[0m\u001b[0mb\u001b[0m\u001b[0;34m.\u001b[0m\u001b[0mT\u001b[0m\u001b[0;34m*\u001b[0m\u001b[0mA\u001b[0m\u001b[0;34m@\u001b[0m\u001b[0mx\u001b[0m \u001b[0;34m+\u001b[0m \u001b[0mcp\u001b[0m\u001b[0;34m.\u001b[0m\u001b[0mquad_form\u001b[0m\u001b[0;34m(\u001b[0m\u001b[0mx\u001b[0m\u001b[0;34m,\u001b[0m \u001b[0mA\u001b[0m\u001b[0;34m.\u001b[0m\u001b[0mT\u001b[0m\u001b[0;34m*\u001b[0m\u001b[0mA\u001b[0m\u001b[0;34m)\u001b[0m  \u001b[0;34m)\u001b[0m\u001b[0;34m\u001b[0m\u001b[0;34m\u001b[0m\u001b[0m\n\u001b[0m\u001b[1;32m      4\u001b[0m \u001b[0;34m\u001b[0m\u001b[0m\n\u001b[1;32m      5\u001b[0m \u001b[0mconstraints\u001b[0m \u001b[0;34m=\u001b[0m \u001b[0;34m[\u001b[0m \u001b[0;34m-\u001b[0m\u001b[0;36m0.9\u001b[0m \u001b[0;34m<=\u001b[0m \u001b[0mx\u001b[0m\u001b[0;34m,\u001b[0m \u001b[0mx\u001b[0m \u001b[0;34m<=\u001b[0m \u001b[0;36m0.9\u001b[0m\u001b[0;34m]\u001b[0m\u001b[0;34m\u001b[0m\u001b[0;34m\u001b[0m\u001b[0m\n",
      "\u001b[0;31mValueError\u001b[0m: operands could not be broadcast together with shapes (1,3) (3,2) "
     ]
    }
   ],
   "source": [
    "x = cp.Variable(2)\n",
    "\n",
    "objective = cp.Minimize(  b.T*b - 2*b.T*A@x + cp.quad_form(x, A.T*A)  )\n",
    "\n",
    "constraints = [ -0.9 <= x, x <= 0.9]\n",
    "\n",
    "p = cp.Problem(objective, constraints)"
   ]
  },
  {
   "cell_type": "markdown",
   "metadata": {},
   "source": [
    "The optimal cost function is equal to:"
   ]
  },
  {
   "cell_type": "code",
   "execution_count": null,
   "metadata": {},
   "outputs": [],
   "source": [
    "result = p.solve()\n",
    "print(result)"
   ]
  },
  {
   "cell_type": "markdown",
   "metadata": {},
   "source": [
    "which is more than what it was without the linear constraints. The optimal solution is equal to:"
   ]
  },
  {
   "cell_type": "code",
   "execution_count": null,
   "metadata": {},
   "outputs": [],
   "source": [
    "print(x.value)"
   ]
  },
  {
   "cell_type": "markdown",
   "metadata": {},
   "source": [
    "*Example (Linear Program with a Stochastic Objective Function):* Consider a random vector $c$ and the following LP problem:\n",
    "\\begin{align}\n",
    "\\text{minimize }&c^\\text{T}x\\nonumber\\\\\n",
    "\\text{subject to }& Gx \\preccurlyeq h \\nonumber\\\\\n",
    "                  & Ax = b\n",
    "\\end{align}\n",
    "Assume that $c$ is a random vector with the normal distribution of $\\mathcal{N}(\\bar c,\\Sigma)$. \n",
    "Also we assume that $x$, the unknown vector, is deterministic. With this assumptions, the objective function $c^\\text{T}x$ is a normal random variable with mean ${\\bar c}^\\text{T}x$ and variance $x^\\text{T}\\Sigma x$.\n",
    "\n",
    "One way to formulate the problem so that it is practically solveable is to set the objective function as:\n",
    "\\begin{equation}\n",
    "{\\bar c}^\\text{T}x+\\gamma x^\\text{T}\\Sigma x\n",
    "\\end{equation}\n",
    "where $\\gamma\\geq 0$. This objective function is called the risk-sensitive cost and $\\gamma$ is call the risk-aversion parameter. The larger $\\gamma$ is, the more the uncertainty of the original objective function is penalized and it thus leads to a more certain result. With this approach, the problem is formulated as the following deterministic LP:\n",
    "\\begin{align}\n",
    "\\text{minimize }&{\\bar c}^\\text{T}x+\\gamma x^\\text{T}\\Sigma x\\nonumber\\\\\n",
    "\\text{subject to }& Gx \\preccurlyeq h \\nonumber\\\\\n",
    "                  & Ax = b\n",
    "\\end{align}\n",
    "As a numerical example, let us consider an uncertain version of ref{LP2}:\n",
    "\\begin{align}\n",
    "\\bar c=&\\bmat{c} 22\\\\ 14.5 \\emat \\nonumber\\\\\n",
    "\\Sigma=&\\bmat{ccc} 5 & 1\\\\ 1 & 4 \\emat\\nonumber\\\\\n",
    "G =&\\bmat{cc} -1 & -1\\\\ -0.5 & 1\\\\ 2 & -1 \\emat \\nonumber\\\\\n",
    "h =&\\bmat{c} 1\\\\2\\\\4\\emat\n",
    "\\end{align}"
   ]
  },
  {
   "cell_type": "markdown",
   "metadata": {},
   "source": [
    "Now, the optimization can be solved with the following code:"
   ]
  },
  {
   "cell_type": "code",
   "execution_count": null,
   "metadata": {},
   "outputs": [],
   "source": [
    "Sigma = co.matrix([\t5, 1,\n",
    "\t\t\t\t    1, 4,], (2,2))\n",
    "cb = co.matrix([1, 1], (2,1))\n",
    "\n",
    "G = co.matrix([ -1, -0.5,  2,\n",
    "                -1,    1, -1], (3,2))\n",
    "\n",
    "h = co.matrix([ 1,\n",
    "                2,\n",
    "                4],(3,1))\n",
    "gamma = 0.5\n",
    "\n",
    "x = cp.Variable((2,1))\n",
    "\n",
    "objective = cp.Minimize(  cb.T * x + gamma * cp.quad_form(x, Sigma) )\n",
    "\n",
    "constraints = [ G*x <= h  ]\n",
    "\n",
    "p = cp.Problem(objective, constraints)"
   ]
  },
  {
   "cell_type": "markdown",
   "metadata": {},
   "source": [
    "The optimal value of the objective function is:"
   ]
  },
  {
   "cell_type": "code",
   "execution_count": null,
   "metadata": {},
   "outputs": [],
   "source": [
    "result = p.solve()\n",
    "print(result)"
   ]
  },
  {
   "cell_type": "markdown",
   "metadata": {},
   "source": [
    "The optimal solution, in this case, is inside of the feasible set:"
   ]
  },
  {
   "cell_type": "code",
   "execution_count": null,
   "metadata": {},
   "outputs": [],
   "source": [
    "print(x.value)"
   ]
  },
  {
   "cell_type": "markdown",
   "metadata": {},
   "source": [
    "In the following figure, the feasible set and the contours of the objective function are drawn."
   ]
  },
  {
   "cell_type": "code",
   "execution_count": null,
   "metadata": {},
   "outputs": [],
   "source": [
    "xp = np.array([-3, 6])\n",
    "# plot the constraints\n",
    "plt.plot(xp, -xp-1, xp, 0.5*xp+2, xp, 2*xp-4)\n",
    "# Draw the feasible set (filled triangle)\n",
    "path = mpl.path.Path([[4, 4], [1, -2], [-2, 1], [4, 4]])            \n",
    "patch = mpl.patches.PathPatch(path, facecolor='green')               \n",
    "# Add the triangle to the plot\n",
    "plt.gca().add_patch(patch)                                          \n",
    "plt.xlabel('x')\n",
    "plt.ylabel('y')\n",
    "plt.title('Feasible Set of a Linear Program')\n",
    "plt.xlim(-3,6)\n",
    "plt.ylim(-5,5)\n",
    "delta = 0.025\n",
    "xc = np.arange(-3.0, 6.0, delta)\n",
    "yc = np.arange(-5.0, 6.0, delta)\n",
    "X, Y = np.meshgrid(xc, yc)\n",
    "Z = cb[0]*X + cb[1]*Y + Sigma[0,0]*X*X + 2*Sigma[0,1]*X*Y + Sigma[1,1]*Y*Y\n",
    "plt.contour(X, Y, Z)\n",
    "X, Y = np.meshgrid(x, y)\n",
    "plt.show()"
   ]
  },
  {
   "cell_type": "markdown",
   "metadata": {},
   "source": [
    "*Example (Distance between polyhedra):* Consider the following two polyhedra:\n",
    "\\begin{equation}\n",
    "\\mathcal{P}_1=\\{x| A_1x \\preccurlyeq b_1\\},\\ \\mathcal{P}_2=\\{x| A_2x \\preccurlyeq b_2\\}\n",
    "\\end{equation}\n",
    "The distance between $\\mathcal{P}_1$ and $\\mathcal{P}_2$ is defined as:\n",
    "\\begin{equation}\n",
    "\\text{d}(\\mathcal{P}_1,\\mathcal{P}_2)=\\inf\\{\\|x_1-x_2\\|_2 | x_1\\in\\mathcal{P}_1,\\ x_2\\in\\mathcal{P}_2\\}\n",
    "\\end{equation}\n",
    "This ditance can computed using the following QP problem:\n",
    "\\begin{align}\n",
    "\\text{minimize }& \\|x_1-x_2\\|_2^2\\nonumber\\\\\n",
    "\\text{subject to }&A_1x \\preccurlyeq b_1 \\nonumber\\\\\n",
    "                  &A_2x \\preccurlyeq b_2\n",
    "\\end{align}\n",
    "As a numerical example, consider the following polygons:"
   ]
  },
  {
   "cell_type": "code",
   "execution_count": null,
   "metadata": {},
   "outputs": [],
   "source": [
    "# Draw the triangle\n",
    "path = mpl.path.Path([[4, 4], [1, -2], [-2, 1], [4, 4]])            \n",
    "patch = mpl.patches.PathPatch(path, facecolor='green')               \n",
    "# Add the triangle to the plot\n",
    "plt.gca().add_patch(patch)\n",
    "# Draw the rectangle\n",
    "path = mpl.path.Path([[-3, 4], [-2, 4], [-2, 2], [-3, 2], [-3, 4]])            \n",
    "patch = mpl.patches.PathPatch(path, facecolor='green')               \n",
    "# Add the rectangle to the plot\n",
    "plt.gca().add_patch(patch)\n",
    "plt.xlabel('x')\n",
    "plt.ylabel('y')\n",
    "plt.xlim(-4,6)\n",
    "plt.ylim(-3,5)\n",
    "plt.show()"
   ]
  },
  {
   "cell_type": "markdown",
   "metadata": {},
   "source": [
    "The distance between these two polygons is computed with the following QP optimization problem:"
   ]
  },
  {
   "cell_type": "code",
   "execution_count": null,
   "metadata": {},
   "outputs": [],
   "source": [
    "x1 = cp.Variable((2,1))\n",
    "x2 = cp.Variable((2,1))\n",
    "\n",
    "I = np.identity(2)\n",
    "\n",
    "# Triangle\n",
    "A1 = co.matrix([ -1, -0.5,  2,\n",
    "                -1,    1, -1], (3,2))\n",
    "\n",
    "b1 = co.matrix([ 1,\n",
    "                2,\n",
    "                4],(3,1))\n",
    "\n",
    "# Rectangle\n",
    "A2 = co.matrix([ -1, 1,  0, 0,\n",
    "                 0, 0, -1, 1], (4,2))\n",
    "\n",
    "b2 = co.matrix([ 3,\n",
    "                -2,\n",
    "                -2,\n",
    "                4],(4,1))\n",
    "\n",
    "objective = cp.Minimize(  cp.quad_form(x1-x2, I) )\n",
    "\n",
    "constraints = [ A1*x1<= b1, A2*x2<=b2]\n",
    "\n",
    "p = cp.Problem(objective, constraints)"
   ]
  },
  {
   "cell_type": "markdown",
   "metadata": {},
   "source": [
    "The distance between the two polygons is:"
   ]
  },
  {
   "cell_type": "code",
   "execution_count": null,
   "metadata": {},
   "outputs": [],
   "source": [
    "result=p.solve()\n",
    "print(result)"
   ]
  },
  {
   "cell_type": "markdown",
   "metadata": {},
   "source": [
    "The correspondin point in the triangle is:"
   ]
  },
  {
   "cell_type": "code",
   "execution_count": null,
   "metadata": {},
   "outputs": [],
   "source": [
    "print(x1.value)"
   ]
  },
  {
   "cell_type": "markdown",
   "metadata": {},
   "source": [
    "and the corresponding point in the rectangle is:"
   ]
  },
  {
   "cell_type": "code",
   "execution_count": null,
   "metadata": {},
   "outputs": [],
   "source": [
    "print(x2.value)"
   ]
  },
  {
   "cell_type": "markdown",
   "metadata": {},
   "source": [
    "### Second order cone program"
   ]
  },
  {
   "cell_type": "markdown",
   "metadata": {},
   "source": [
    "A second order cone program (SOCP) is defined as:\n",
    "\\begin{align}\n",
    "\\text{minimize }& f^\\text{T}x\\nonumber\\\\\n",
    "\\text{subject to }&\\|A_ix+b_i\\|_2\\leq c_i^\\text{T}x+d_i,\\ i=1,\\ldots,m\\nonumber\\\\\n",
    "                  &Fx = g\n",
    "\\end{align}\n",
    "Note that:\n",
    "\n",
    "- If $c_i=0$ for $i=1,\\ldots,m$, the SOCP is equivalent to a QP.\n",
    "- If $A_i=0$ for $i=1,\\ldots,m$, the SOCP is equivalent to a LP."
   ]
  },
  {
   "cell_type": "markdown",
   "metadata": {},
   "source": [
    "*Example (robust linear program):* Consider the following LP problem:\n",
    "\\begin{align}\n",
    "\\text{minimize }&c^\\text{T}x\\nonumber\\\\\n",
    "\\text{subject to }& a_i^\\text{T}x \\leq b_i,\\ i=1,\\ldots,m \n",
    "\\end{align}\n",
    "where the parameters are assumed to be uncertain. For simplicity, let us assume that $c$ and $b_i$ are known and $a_i$ are uncertain and belong to given ellipsoids:\n",
    "\\begin{equation}\n",
    "a_i \\in \\mathcal{E}_i = \\{\\bar a_i+P_iu|\\ \\|u\\|_2\\leq 1\\}\n",
    "\\end{equation}\n",
    "For each constraint $a_i^\\text{T}x\\leq b_i$, it is sufficient that the suprimum value of $a_i^\\text{T}x$ be less than or equal to $b_i$. The supremum value can be written as:\n",
    "\\begin{align}\n",
    "\\sup\\{a_i^\\text{T}x|a_i\\in\\mathcal{E}_i \\} =& \\bar a_i^\\text{T}x+\\sup\\{ u^\\text{T}P_i^\\text{T}x |\\ \\|u\\|_2\\leq 1\\}\\nonumber\\\\\n",
    "&\\bar a_i^\\text{T}x+\\|P_i^\\text{T}x\\|_2\n",
    "\\end{align}\n",
    "Therefore, the robust LP problem can be written as the following SOCP problem:\n",
    "\\begin{align}\n",
    "\\text{minimize }&c^\\text{T}x\\nonumber\\\\\n",
    "\\text{subject to }& \\bar a_i^\\text{T}x+\\|P_i^\\text{T}x\\|_2 \\leq b_i,\\ i=1,\\ldots,m \n",
    "\\end{align}"
   ]
  },
  {
   "cell_type": "markdown",
   "metadata": {},
   "source": [
    "*Example (stochastic linear program):* The same robust LP problem can be addressed in a stochastic framework. In this framework, $a_i$ are assumed to be independent normal random vectors with the distribution $\\mathcal{N}(\\bar a_i, \\Sigma_i)$. The requirement is that each constraint $a_i^\\text{T}x\\leq b_i$ should be satisfied with a probability more than $\\eta$, where $\\eta\\geq 0.5$.\n",
    "\n",
    "Assuming that $x$ is deterministic, $a_i^\\text{T}x$ is a scalar normal random variable with mean $\\bar u=\\bar a_i^\\text{T}x$ and variance $\\sigma=x^\\text{T}\\Sigma_ix$. The probability of $a_i^\\text{T}x$ being less than $b_i$ is $\\Phi((b_i-\\bar u)/\\sigma)$ where $\\Phi(z)$ is the cumulative distribution function of a zero mean unit variance Gaussian random variable:\n",
    "\\begin{equation}\n",
    "\\Phi(z)=\\frac{1}{\\sqrt{2\\pi}}\\int_{-\\infty}^ze^{-t^2/2}dt\n",
    "\\end{equation}\n",
    "Therefore, for the probability of $a_i^\\text{T}x\\leq b_i$ be larger than $\\eta$, we should have:\n",
    "\\begin{equation}\n",
    "\\Phi\\left(\\frac{b_i-\\bar u}{\\sigma}\\right)\\geq \\eta\n",
    "\\end{equation}\n",
    "This is equivalent to:\n",
    "\\begin{align}\n",
    "\\bar a_i^\\text{T}x+\\Phi^{-1}(\\eta)\\sigma\\leq b_i \\nonumber\\\\\n",
    "\\bar a_i^\\text{T}x+\\Phi^{-1}(\\eta)\\|\\Sigma^{1/2}x\\|_2 \\leq b_i \n",
    "\\end{align}\n",
    "Therefore, the stochastic LP problem:\n",
    "\\begin{align}\n",
    "\\text{minimize }&c^\\text{T}x\\nonumber\\\\\n",
    "\\text{subject to }& \\text{prob} (a_i^\\text{T}x \\leq b_i)\\geq \\eta,\\ i=1,\\ldots,m \n",
    "\\end{align}\n",
    "can be reformulated as the following SOCP:\n",
    "\\begin{align}\n",
    "\\text{minimize }&c^\\text{T}x\\nonumber\\\\\n",
    "\\text{subject to }& \\bar a_i^\\text{T}x+\\Phi^{-1}(\\eta)\\|\\Sigma^{1/2}x\\|_2 \\leq b_i,\\ i=1,\\ldots,m \n",
    "\\end{align}\n"
   ]
  },
  {
   "cell_type": "markdown",
   "metadata": {},
   "source": [
    "*Example:* Consider the equation $Ax=b$ where $x\\in\\mathbb{R}^n$, $A\\in\\mathbb{R}^{m\\times n}$ and $b\\in\\mathbb{R}^m$. It is assumed that $m>n$. Let us consider the following optimization problem:\n",
    "\\begin{equation}\n",
    "\\text{minimize }\\|Ax-b\\|_2+\\gamma\\|x\\|_1\n",
    "\\end{equation}\n",
    "The objective function is a weighted sum of the 2-norm of equation error and the 1-norm of $x$. The optimization problem can be written as the following SOCP problem:\n",
    "\\begin{align}\n",
    "\\text{minimize }& t\\nonumber\\\\\n",
    "                & \\|Ax-b\\|_2+\\gamma \\sum_{i=1}^n t_i\\leq t\\nonumber\\\\\n",
    "                & -t_i \\leq x_i \\leq t_i, i=1,\\ldots,n\n",
    "\\end{align}\n",
    "As a numerical example, consider:\n",
    "\\begin{equation}\n",
    "A = \\bmat{cc} 1 & 1 \\\\ 2 & 1\\\\ 3 & 2 \\emat,\\ b=\\bmat{c} 2\\\\ 3 \\\\ 4\\emat,\\ \\gamma = 0.5\n",
    "\\end{equation}\n",
    "The optimization problem can be solved using the following code:"
   ]
  },
  {
   "cell_type": "code",
   "execution_count": null,
   "metadata": {},
   "outputs": [],
   "source": [
    "x = cp.Variable((2,1))\n",
    "t = cp.Variable(1)\n",
    "t1 = cp.Variable(1)\n",
    "t2 = cp.Variable(1)\n",
    "gamma = 0.5\n",
    "\n",
    "A = co.matrix([[1,2,3],[1,1,2]])\n",
    "b = co.matrix([2, 3, 4],(3,1))\n",
    "objective = cp.Minimize(t)\n",
    "\n",
    "constraints = [cp.norm(A*x-b)+gamma*(t1+t2) <= t, -t1 <= x[0], x[0] <= t1, -t2 <= x[1], x[1] <= t2 ]\n",
    "\n",
    "p = cp.Problem(objective, constraints)"
   ]
  },
  {
   "cell_type": "markdown",
   "metadata": {},
   "source": [
    "The optimal value of the objective function is:"
   ]
  },
  {
   "cell_type": "code",
   "execution_count": null,
   "metadata": {},
   "outputs": [],
   "source": [
    "result=p.solve()\n",
    "print(result)"
   ]
  },
  {
   "cell_type": "markdown",
   "metadata": {},
   "source": [
    "and the optimal solution is:"
   ]
  },
  {
   "cell_type": "code",
   "execution_count": null,
   "metadata": {},
   "outputs": [],
   "source": [
    "print(x.value)"
   ]
  },
  {
   "cell_type": "markdown",
   "metadata": {},
   "source": [
    "Thanks to cvxpy, the same problem can be solved using a much shorter code:"
   ]
  },
  {
   "cell_type": "code",
   "execution_count": null,
   "metadata": {},
   "outputs": [],
   "source": [
    "p = cp.Problem(cp.Minimize(cp.norm(A*x-b)+gamma*cp.norm(x,1)), [])\n",
    "result=p.solve()\n",
    "print(x.value)"
   ]
  },
  {
   "cell_type": "markdown",
   "metadata": {},
   "source": [
    "### Semidefinite program"
   ]
  },
  {
   "cell_type": "markdown",
   "metadata": {},
   "source": [
    "Generalized inequalities can be defined based on propoer cones. Till now we have seen inequalities for real numbers and elementwise inequalities real vectors. The former type of inequality is defined by the propoer cone of nonnegative real numbers. The later type is defined by the proper cone of the nonnegative orthant ($\\mathbb{R}^n_+$) in $\\mathbb{R}^n$. One natural extension of the optimization problems we have seen so far is to define the inequalities by the proper cone of positive semidefinite matrices. For example, consider the following linear optimization problem:\n",
    "\\begin{align}\n",
    "\\text{minimize}  & c^\\text{T}x\\nonumber\\\\\n",
    "\\text{subject to}& Fx+g\\preccurlyeq_{\\mathcal{S}^n_+} 0\\nonumber\\\\\n",
    "                 & Ax=b\n",
    "\\end{align}\n",
    "where $\\mathcal{S}^n_+$ is the cone of positive semidefinite matrices in $\\mathcal{R}^{n\\times n}$. In other words, the first constraint of the above optimization problem says that $Fx+g$ is positive semidefinite. This is an extension of linear programming.\n",
    "\n",
    "A semidefinite program (SDP) is defined as:\n",
    "\\begin{align}\n",
    "\\text{minimize}  & c^\\text{T}x\\nonumber\\\\\n",
    "\\text{subject to}& x_1F_1+x_2F_2+\\cdots+x_nF_n+G \\leq 0\\nonumber\\\\\n",
    "                 & Ax=b\n",
    "\\end{align}\n",
    "where $x =\\left[\\begin{matrix}x_1&x_2&\\cdots&x_n\\end{matrix}\\right]^\\text{T}$ is a vector in $\\mathbb{R}^n$ and $F_i, i=1,\\ldots,m$ and $G$ are symetric matrices in $\\mathcal{R}^{m\\times m}$.\n",
    "\n",
    "Note that the standard LP problem:\n",
    "\\begin{align}\n",
    "\\text{minimize}&c^\\text{T}x\\nonumber\\\\\n",
    "               &Ax\\preccurlyeq b\n",
    "\\end{align}\n",
    "can be written as the following SDP problem:\n",
    "\\begin{align}\n",
    "\\text{minimize}&c^\\text{T}x\\nonumber\\\\\n",
    "               &\\text{diag}(Ax) \\leq b\n",
    "\\end{align}\n",
    "where $\\text{diag}(v)$ for $v\\in\\mathbb{R}^n$ is a diagonal matrix in $\\mathbb{R}^{n\\times n}$ with $v$ as the main diagonal.\n",
    "\n",
    "Also the standard SOCP problem:\n",
    "\\begin{align}\n",
    "\\text{minimize}&c^\\text{T}x\\nonumber\\\\\n",
    "               &\\|A_ix+b_i\\|_2 \\leq c_i^\\text{T}x+d_i,\\ i=1,\\ldots,m\n",
    "\\end{align}\n",
    "can be written as the following SDP problem:\n",
    "\\begin{align}\n",
    "\\text{minimize}&c^\\text{T}x\\nonumber\\\\\n",
    "               & \\left[\\begin{matrix} (c_i^\\text{T}x+d_i)I & A_ix+b_i\\\\ A_ix+b_i & c_i^\\text{T}x+d_i\\end{matrix}\\right] \\geq 0,\\ i=1,\\ldots,m\n",
    "\\end{align}"
   ]
  },
  {
   "cell_type": "markdown",
   "metadata": {},
   "source": [
    "*Example (eigenvalue minimization):* Consider minimizing the maximum eigenvalue of matrix $A(x)$:\n",
    "\\begin{align}\n",
    "\\text{minimize}& \\lambda_\\max(A(x))\n",
    "\\end{align}\n",
    "where $A(x)=A_0+x_1A_1+\\cdots+x_nA_n$ where $A_i$'s are symmetric matrices. This problem can be written as the following SDP problem:\n",
    "\\begin{align}\n",
    "\\text{minimize}&t\\nonumber\\\\\n",
    "               & A(x)\\leq tI\n",
    "\\end{align}\n",
    "As a numerical example, consider:\n",
    "\\begin{equation}\n",
    "A(x) = \\left[\\begin{matrix} x_3 & 0 & 0 & x_1+x_2-2\\\\ 0 & x_3 & 0 & 2x_1+x_2-3\\\\0 & 0 & x_3 & 3x_1+2x_2-4\\\\ x_1+x_2-2 & 2x_1+x_2-3 & 3x_1+2x_2-4 & x_3 \\end{matrix}\\right]\n",
    "\\end{equation}\n",
    "We would like to minimize the largest eigenvalue of $A$ subject to $A$ being a positive semidefinite matrix. The following code solves this problem:"
   ]
  },
  {
   "cell_type": "code",
   "execution_count": null,
   "metadata": {},
   "outputs": [],
   "source": [
    "x1 = cp.Variable()\n",
    "x2 = cp.Variable()\n",
    "x3 = cp.Variable()\n",
    "t = cp.Variable()\n",
    "X = cp.Variable((4,4), PSD=True)\n",
    "Y = cp.Variable((4,4), PSD=True)\n",
    "\n",
    "A0 = co.matrix([[0,0,0,-2],[0,0,0,-3],[0,0,0,-4],[-2,-3,-4,0]])\n",
    "A1 = co.matrix([[0,0,0,1],[0,0,0,2],[0,0,0,3],[1,2,3,0]])\n",
    "A2 = co.matrix([[0,0,0,1],[0,0,0,1],[0,0,0,2],[1,1,2,0]])\n",
    "A3 = co.matrix([[1,0,0,0],[0,1,0,0],[0,0,1,0],[0,0,0,1]])\n",
    "I = co.matrix(np.identity(4))\n",
    "\n",
    "objective = cp.Minimize(t)\n",
    "\n",
    "Ax = A0+A1*x1+A2*x2+A3*x3\n",
    "constraints = [ Ax == X, t*I-Ax == Y ]\n",
    "p = cp.Problem(objective, constraints)"
   ]
  },
  {
   "cell_type": "markdown",
   "metadata": {},
   "source": [
    "The optimal largest eigenvalue of $A(x)$ is equal to:"
   ]
  },
  {
   "cell_type": "code",
   "execution_count": null,
   "metadata": {},
   "outputs": [],
   "source": [
    "result=p.solve(solver=cp.SCS)\n",
    "print(result)"
   ]
  },
  {
   "cell_type": "markdown",
   "metadata": {},
   "source": [
    "The optimal solution for $x$ is:"
   ]
  },
  {
   "cell_type": "code",
   "execution_count": null,
   "metadata": {},
   "outputs": [],
   "source": [
    "print([x1.value,x2.value,x3.value])"
   ]
  },
  {
   "cell_type": "markdown",
   "metadata": {},
   "source": [
    "The value of $A(x)$ for the optimal solution is equal to:"
   ]
  },
  {
   "cell_type": "code",
   "execution_count": null,
   "metadata": {},
   "outputs": [],
   "source": [
    "print(Ax.value)"
   ]
  },
  {
   "cell_type": "markdown",
   "metadata": {},
   "source": [
    "In this case, eigenvalues of $A(x)$ are equal to:"
   ]
  },
  {
   "cell_type": "code",
   "execution_count": null,
   "metadata": {},
   "outputs": [],
   "source": [
    "EigenValues = np.linalg.eig(Ax.value)[0]\n",
    "print(EigenValues)"
   ]
  },
  {
   "cell_type": "markdown",
   "metadata": {},
   "source": [
    "## Applications in Control Theory"
   ]
  },
  {
   "cell_type": "markdown",
   "metadata": {},
   "source": [
    "Many problems in control theory can be formulated as convex optimization problems. It is beyond the scope of this text to cover all of them. However, in the following, you will see an introduction about applications of convex optimization in control theory."
   ]
  },
  {
   "cell_type": "markdown",
   "metadata": {},
   "source": [
    "### Stability"
   ]
  },
  {
   "cell_type": "markdown",
   "metadata": {},
   "source": [
    "Consider the following autonomous system:\n",
    "\\begin{equation}\n",
    "\\dot x = f(x),\\ x(0)=x_0\n",
    "\\end{equation}\n",
    "with $x\\in\\mathbb{R}^n$ and $t\\geq 0$. A solution of this system with initial condition $x(0)=x_0$ is denoted by $\\phi(t,x_0)$.\n",
    "\n",
    "$x^\\star$ is an equilibrium point of this system if:\n",
    "\\begin{equation}\n",
    "\\forall t \\geq 0, \\phi(t,x^\\star)=x^\\star\n",
    "\\end{equation}\n",
    "\n",
    "*Definition [2]:* An equilibrium point $x^\\star$ is:\n",
    "\n",
    "- *stable* (in the sense of Lyapunov) if for any given $\\epsilon>0$,    there exists $\\delta(\\epsilon)>0$ such that:\n",
    " \\begin{equation}\n",
    "  \\|x_0-x^\\star\\|\\leq \\delta \\Rightarrow \\lim_{t\\rightarrow     \\infty}\\|\\phi(t,x_0)-x^\\star\\|=0 \n",
    "  \\end{equation}\n",
    "- *attractive* if there exists $\\delta>0$ such that:\n",
    "  \\begin{equation}\n",
    "  \\|x_0-x^\\star\\|\\leq\\delta \\Rightarrow \\lim_{t\\rightarrow \\infty}\\|\\phi(t,x_0)-x^\\star\\|=0\n",
    "  \\end{equation}\n",
    "- *asymptotically stable* (in the sense of Lyapunov) if it is both stable and attractive.\n",
    "\n",
    "*Theorem [3]:* If there exists a continuous function $V(x)$ defined in a forward invariant set $\\mathcal{X}$ of the autonomous system (*) such that:\n",
    "\\begin{align}\n",
    "V(x^\\star)=0,\\nonumber\\\\\n",
    "V(x) > 0,\\ \\forall x\\in\\mathcal{X} \\text{ such that } x\\neq x^\\star\\nonumber\\\\\n",
    "t_1\\leq t_2\\Rightarrow V(\\phi(t_1,x_0)) \\geq V(\\phi(t_2,x_0))\n",
    "\\end{align}\n",
    "then $x^\\star$ is a stable equilibrium point. Moreover if there exists a continuous function $Q(x)$ such that:\n",
    "\\begin{equation}\n",
    "Q(x^\\star)=0,\\nonumber\\\\\n",
    "Q(x)>0,\\ \\forall x\\in\\mathcal{X} \\text{ such that } x\\neq x^\\star\\nonumber\\\\\n",
    "t_1\\leq t_2\\Rightarrow V(\\phi(t_1,x_0)) \\geq V(\\phi(t_2,x_0))+\\int_{t_1}^{t_2} Q(\\phi(\\tau,x_0))d\\tau\\nonumber\\\\\n",
    "\\|x\\|\\rightarrow\\infty \\Rightarrow V(x)\\rightarrow\\infty\n",
    "\\end{equation}\n",
    "then $x^\\star$ is an asymptotically stable equilibrium point."
   ]
  },
  {
   "cell_type": "markdown",
   "metadata": {},
   "source": [
    "#### Linear Systems"
   ]
  },
  {
   "cell_type": "markdown",
   "metadata": {},
   "source": [
    "Consider the linear system:\n",
    "\\begin{equation}\n",
    "\\dot x=Ax, x(0)=x_0\n",
    "\\end{equation}\n",
    "where $x\\in\\mathbb{R}^n$. The only equilibrium point of this system is $x^\\star=0$. Consider the following candidate Lyapunov function:\n",
    "\\begin{equation}\n",
    "V(x)=x^\\text{T}Px\n",
    "\\end{equation}\n",
    "where $P\\in\\mathbb{n\\times n}$ is a positive definite matrix and therefore $V(x)>0$ for $x\\neq 0$. The linear system () is stable if there exists a $P$:\n",
    "\\begin{equation}\n",
    "\\dot V(x) = (Ax)^\\text{T}Px+x^\\text{T}PAx < 0\n",
    "\\end{equation}\n",
    "In case of linear systems, the existence of a Lyapunov function is a necessary and sufficient condition for stability. The Lyapunov conditions can be written as the following linear matrix inequalities:\n",
    "\\begin{align}\n",
    "P>0\\nonumber\\\\\n",
    "A^\\text{T}P+PA<0\n",
    "\\end{align}\n"
   ]
  },
  {
   "cell_type": "markdown",
   "metadata": {},
   "source": [
    "*Example:* Consider a linear system with:\n",
    "\\begin{equation}\n",
    "A=\\left[\\begin{matrix}0&1\\\\-1&-2\\end{matrix}\\right]\n",
    "\\end{equation}\n",
    "The eigenvalues of $A$ are negative:"
   ]
  },
  {
   "cell_type": "code",
   "execution_count": null,
   "metadata": {},
   "outputs": [],
   "source": [
    "A = np.matrix('0 1; -1 -2')\n",
    "np.linalg.eig(A)[0]"
   ]
  },
  {
   "cell_type": "markdown",
   "metadata": {},
   "source": [
    "Therefore, the system is stable. In the following, we now verify the stability of the system by solving the following LMIs:"
   ]
  },
  {
   "cell_type": "code",
   "execution_count": null,
   "metadata": {},
   "outputs": [],
   "source": [
    "A = cp.Parameter((2,2))\n",
    "P = cp.Variable((2,2))\n",
    "\n",
    "objective = cp.Minimize( 0 )\n",
    "prob = cp.Problem(objective, [A.T*P+P*A << 0, P >> 0])\n",
    "A.value = np.matrix('0 1; -1 -2')\n",
    "prob.solve()"
   ]
  },
  {
   "cell_type": "markdown",
   "metadata": {},
   "source": [
    "where SDPVar(n,n) is an auxiliary positive semi-definite matrix. Since the stability LMIs are a feasibility problem as opposed to an optimization problem, we have set the objective function to be a constant value. The optimal solution of the above LMIs is:"
   ]
  },
  {
   "cell_type": "code",
   "execution_count": null,
   "metadata": {},
   "outputs": [],
   "source": [
    "print(P.value)"
   ]
  },
  {
   "cell_type": "markdown",
   "metadata": {},
   "source": [
    "However, this is the trivial answer of these LMIs:\n",
    "\\begin{align}\n",
    "P\\geq 0\\nonumber\\\\\n",
    "A^\\text{T}P+PA\\leq 0\n",
    "\\end{align}\n",
    "In order to find a feasible answer for strict inequalities using non-strict inequalities, we can rewrite the inequalities as:\n",
    "\\begin{align}\n",
    "P-\\epsilon I\\geq 0\\nonumber\\\\\n",
    "A^\\text{T}P+PA+\\alpha P\\leq 0\n",
    "\\end{align}\n",
    "Let us now solve the following LMIs to find a valid Lyapunov function for the linear system:"
   ]
  },
  {
   "cell_type": "code",
   "execution_count": null,
   "metadata": {},
   "outputs": [],
   "source": [
    "I = np.identity(2)\n",
    "\n",
    "prob = cp.Problem(objective, [A.T*P+P*A+0.5*P << 0, P - 0.1*I >> 0])\n",
    "prob.solve()"
   ]
  },
  {
   "cell_type": "code",
   "execution_count": null,
   "metadata": {},
   "outputs": [],
   "source": [
    "print(P.value)"
   ]
  },
  {
   "cell_type": "markdown",
   "metadata": {},
   "source": [
    "It is also possible to add an objective function to the LMIs, for example $\\lambda_{max}(P)$, the largest eigenvalue of $P$, to have a better conditioned $P$ in the solution:"
   ]
  },
  {
   "cell_type": "code",
   "execution_count": null,
   "metadata": {},
   "outputs": [],
   "source": [
    "objective = cp.Minimize( cp.lambda_max(P) )\n",
    "prob = cp.Problem(objective, [A.T*P+P*A+0.5*P << 0, P - 0.1*I >> 0])\n",
    "prob.solve()"
   ]
  },
  {
   "cell_type": "markdown",
   "metadata": {},
   "source": [
    "The optimal solution is now equal to:"
   ]
  },
  {
   "cell_type": "code",
   "execution_count": null,
   "metadata": {},
   "outputs": [],
   "source": [
    "print(P.value)"
   ]
  },
  {
   "cell_type": "markdown",
   "metadata": {},
   "source": [
    "We can verify the inequalities by computing the eigenvalues:"
   ]
  },
  {
   "cell_type": "code",
   "execution_count": null,
   "metadata": {},
   "outputs": [],
   "source": [
    "np.linalg.eig(P.value)[0]"
   ]
  },
  {
   "cell_type": "code",
   "execution_count": null,
   "metadata": {},
   "outputs": [],
   "source": [
    "np.linalg.eig( (A.T*P+P*A).value )[0]"
   ]
  },
  {
   "cell_type": "markdown",
   "metadata": {},
   "source": [
    "#### Uncertain Linear Systems"
   ]
  },
  {
   "cell_type": "markdown",
   "metadata": {},
   "source": [
    "Consider the following linear system:\n",
    "\\begin{equation}\n",
    "\\dot x=A(\\alpha)x, x(0)=x_0\n",
    "\\end{equation}\n",
    "where $A\\in\\mathbb{R}^{n\\times n}$ is an uncertain matrix such that:\n",
    "\\begin{equation}\n",
    "A(\\alpha)=\\sum_{i=1}^L \\alpha_i A_i\n",
    "\\end{equation}\n",
    "where $A_i$ for $i=1,\\ldots,L$ are known matrices and $\\alpha_i$ for $i=1,\\ldots,L$ are unknown scalars such that:\n",
    "\\begin{equation}\n",
    "\\sum_{i=1}^L \\alpha_i=1 \n",
    "\\end{equation}\n",
    "This system can also be written as a linear differential inclusion:\n",
    "\\begin{equation}\n",
    "\\dot x\\in Ax\n",
    "\\end{equation}\n",
    "where $A\\in\\text{conv}(\\{A_1,\\ldots,A_L\\})$\n",
    "Using the Lyapunov theorem, it can be shown that the uncertain linear system is asymptotically stable if there exists a $P$ such that:\n",
    "\\begin{align}\n",
    "P &> 0\\nonumber\\\\\n",
    "A_i^\\text{T}P+PA_i &< 0, i=1,\\ldots,L\n",
    "\\end{align}\n",
    "Note that this condition is stronger than saying all the $A_i$'s have to be stable. In addition to that, it is required that all the $A_i$'s share the same $P$."
   ]
  },
  {
   "cell_type": "markdown",
   "metadata": {},
   "source": [
    "*Example:* Consider the uncertain linear system () with $L=2$ and:\n",
    "\\begin{equation}\n",
    "A_1=\\left[\\begin{matrix}1&-2\\\\2&-2\\end{matrix}\\right],\\ A_2=\\left[\\begin{matrix}1&2\\\\-2&-2\\end{matrix}\\right]\n",
    "\\end{equation}\n",
    "The eigenvalues of $A_1$ and $A_2$ are on the left side of the complex plane and even equal:"
   ]
  },
  {
   "cell_type": "code",
   "execution_count": null,
   "metadata": {},
   "outputs": [],
   "source": [
    "A1 = np.matrix('1 -2; 2 -2')\n",
    "np.linalg.eig(A1)[0]"
   ]
  },
  {
   "cell_type": "code",
   "execution_count": null,
   "metadata": {},
   "outputs": [],
   "source": [
    "A2 = np.matrix('1 2; -2 -2')\n",
    "np.linalg.eig(A2)[0]"
   ]
  },
  {
   "cell_type": "markdown",
   "metadata": {},
   "source": [
    "However, an uncertain linear system with $A$ in the convex hull of $A_1$ and $A_2$ is not stable. For example $A=0.5A_1+0.5A_2$ is not stable:"
   ]
  },
  {
   "cell_type": "code",
   "execution_count": null,
   "metadata": {},
   "outputs": [],
   "source": [
    "np.linalg.eig(0.5*A1+0.5*A2)[0]"
   ]
  },
  {
   "cell_type": "markdown",
   "metadata": {},
   "source": [
    "That is a proof for the following LMIs to be infeasible:"
   ]
  },
  {
   "cell_type": "code",
   "execution_count": null,
   "metadata": {},
   "outputs": [],
   "source": [
    "A1 = cp.Parameter((2,2))\n",
    "A2 = cp.Parameter((2,2))\n",
    "P = cp.Variable((2,2))\n",
    "I = np.identity(2)\n",
    "\n",
    "objective = cp.Minimize( cp.lambda_max(P) )\n",
    "prob = cp.Problem(objective, [P - 0.1*I >> 0, A1.T*P+P*A1+0.5*P << 0, A2.T*P+P*A2+0.5*P << 0])\n",
    "A1.value = np.matrix('1 -2; 2 -2')\n",
    "A2.value = np.matrix('1 2; -2 -2')\n",
    "prob.solve()"
   ]
  },
  {
   "cell_type": "markdown",
   "metadata": {},
   "source": [
    "#### State Feedback Controller"
   ]
  },
  {
   "cell_type": "markdown",
   "metadata": {},
   "source": [
    "Consider the following linear system:\n",
    "\\begin{equation}\n",
    "\\dot x=Ax+Bu\n",
    "\\end{equation}\n",
    "where $x\\in\\mathbb{R}^n$ and $u\\in\\mathbb{R}^m$ denote the state and input vectors. The objective is to design a state feedback of the form:\n",
    "\\begin{equation}\n",
    "u = Kx\n",
    "\\end{equation}\n",
    "to stabilize the closed loop system:\n",
    "\\begin{equation}\n",
    "\\dot x = (A+BK)x\n",
    "\\end{equation}\n",
    "This system is stable if there exists a $P$ such that:\n",
    "\\begin{align}\n",
    "{\\color{red}P}>0\\nonumber\\\\\n",
    "(A+B{\\color{red}K})^\\text{T}{\\color{red}P}+{\\color{red}P}(A+B{\\color{red}K}) < 0\n",
    "\\end{align}\n",
    "The unknown matrices in these inequalities are shown in red. As you see, this is not a LMI but it is a bilinear matrix inequality (BMI). BMI's are hard to solve in general. However, there is a trick for this special BMI to convert it to an LMI.\n",
    "\n",
    "We know that the eigenvalues of a matrix and its transpose are the same. Therefore, the closed loop system () is stable if and only if its dual system is stable:\n",
    "\\begin{equation}\n",
    "\\dot x = (A+BK)x\n",
    "\\end{equation}\n",
    "Now, let us write the stability inequalities for the dual system:\n",
    "\\begin{align}\n",
    "{\\color{red}Q}>0\\nonumber\\\\\n",
    "(A+B{\\color{red}K}){\\color{red}Q}+{\\color{red}Q}(A+B{\\color{red}K})^\\text{T} < 0\n",
    "\\end{align}\n",
    "This is still a BMI. However, if we define $Y=KQ$, we can write the inequalities as:\n",
    "\\begin{align}\n",
    "{\\color{red}Q}>0\\nonumber\\\\\n",
    "A{\\color{red}Q}+{\\color{red}Q}A^\\text{T}+B{\\color{red}Y}+{\\color{red}Y}^\\text{T}B^\\text{T} < 0\n",
    "\\end{align}\n",
    "Now, this is a LMI. After solving the LMI, if it is feasible, the controller gain $K$ can be computed as:\n",
    "\\begin{equation}\n",
    "K = YQ^{-1}\n",
    "\\end{equation}\n",
    "Another way of converting () to a LMI is to multiply both sides of both inequalities by $Q=P^{-1}$ and perform the same trick."
   ]
  },
  {
   "cell_type": "markdown",
   "metadata": {},
   "source": [
    "*Example:* Consider the following linear system:\n",
    "\\begin{equation}\n",
    "\\dot x = \\left[\\begin{matrix}1&0.1\\\\0&-2\\end{matrix}\\right]x+\\left[\\begin{matrix}0\\\\1\\end{matrix}\\right]u\n",
    "\\end{equation}\n",
    "The objective is to find $K$ such that with $u=Kx$ the closed loop system is stable."
   ]
  },
  {
   "cell_type": "code",
   "execution_count": null,
   "metadata": {},
   "outputs": [],
   "source": [
    "A = cp.Parameter((2,2))\n",
    "B = cp.Parameter((2,1))\n",
    "Q = cp.Variable((2,2))\n",
    "Y = cp.Variable((1,2))\n",
    "I = np.identity(2)\n",
    "\n",
    "objective = cp.Minimize( cp.lambda_max(Q) )\n",
    "prob = cp.Problem(objective, [Q - 0.1*I >> 0, A*Q+Q*A.T+B*Y+Y.T*B.T+0.5*Q << 0])\n",
    "A.value = np.matrix('1 0.1; 0 -2')\n",
    "B.value = np.matrix('0; 1')\n",
    "prob.solve()"
   ]
  },
  {
   "cell_type": "markdown",
   "metadata": {},
   "source": [
    "The controller gain can now be computed as:"
   ]
  },
  {
   "cell_type": "code",
   "execution_count": null,
   "metadata": {},
   "outputs": [],
   "source": [
    "K = np.dot(Y.value,np.linalg.inv(Q.value))\n",
    "print(K)"
   ]
  },
  {
   "cell_type": "markdown",
   "metadata": {},
   "source": [
    "The closed loop system is stable:"
   ]
  },
  {
   "cell_type": "code",
   "execution_count": null,
   "metadata": {},
   "outputs": [],
   "source": [
    "Acl = (A.value+B.value*K)\n",
    "np.linalg.eig(Acl)[0]"
   ]
  },
  {
   "cell_type": "markdown",
   "metadata": {},
   "source": [
    "### Dissipativity"
   ]
  },
  {
   "cell_type": "markdown",
   "metadata": {},
   "source": [
    "Similar to stability for autonomous systems, there is a concept called dissipativity for dynamic systems with input. Consider the following dynamical system:\n",
    "\\begin{align}\n",
    "\\dot x=&f(x,w)\\nonumber\\\\\n",
    "z=&g(x,w)\n",
    "\\end{align}\n",
    "where $x\\in\\mathbb{R}^n$ is the state, $u\\in\\mathbb{R}^m$ is the input and $z\\in\\mathbb{R}^p$ is the output vector.\n",
    "\n",
    "*Definition:* The system () is said to be dissipative with storage function $V$ and supply rate $W$, if:\n",
    "\\begin{equation}\n",
    "t_1\\leq t_2\\Rightarrow V(x(t_1))+\\int_{t_1}^{t_2}W(z(\\tau),w(\\tau))d\\tau\\geq V(x(t_2))\n",
    "\\end{equation}\n",
    "If the storage function and the trajectory of the system are smooth, this inequality can be written as:\n",
    "\\begin{equation}\n",
    "\\nabla_x V(x).\\dot x\\leq W(z,w)\n",
    "\\end{equation}\n",
    "\n",
    "Now, consider the following linear system:\n",
    "\\begin{align}\n",
    "\\dot x=&Ax+Bw\\nonumber\\\\\n",
    "z=&Cx+Dw\n",
    "\\end{align}\n",
    "with $x(0)=0$. It assumed that all the eigenvalues of $A$ have negative real values. In the followin, we will review a few special cases of dissipativity."
   ]
  },
  {
   "cell_type": "markdown",
   "metadata": {},
   "source": [
    "#### QSR Dissipativity"
   ]
  },
  {
   "cell_type": "markdown",
   "metadata": {},
   "source": [
    "The following statements are equivalent:\n",
    "\n",
    "- The system is strictly dissipative with the supply rate:\n",
    "  \\begin{equation}\n",
    "  s(w,z)=\\left[\\begin{matrix} w\\\\\\\\z\\end{matrix}\\right]^\\text{T} \\left[\\begin{matrix} Q&S\\\\\\\\S^\\text{T}& R\\end{matrix}\\right] \\left[\\begin{matrix} w\\\\\\\\z \\end{matrix}\\right]\n",
    "  \\end{equation}\n",
    "- For all $\\omega\\in\\mathbb{R}\\cup\\{\\infty\\}$ there holds:\n",
    "  \\begin{equation}\n",
    "  \\left[\\begin{matrix} I\\\\\\\\T(j\\omega)\\end{matrix}\\right]^\\star     \\left[\\begin{matrix} Q& S\\\\\\\\S^\\text{T}&R\\end{matrix}\\right]\\left[\\begin{matrix} I\\\\\\\\ T(j\\omega)\\end{matrix}\\right] \\gt 0\n",
    "  \\end{equation}\n",
    "- There exists $P>0$ satisfying the LMI:\n",
    "  \\begin{equation}\n",
    "  \\left[\\begin{matrix} A^\\TR P+PA & PB\\\\\\\\B^\\TR P & 0 \\end{matrix}\\right]-\\left[\\begin{matrix} 0&I\\\\\\\\C&D\\end{matrix}\\right]^\\text{T} \\left[\\begin{matrix} Q& S\\\\\\\\S^\\text{T}&R\\end{matrix}\\right]\\left[\\begin{matrix} 0&I\\\\\\\\ C&D\\end{matrix}\\right] \\lt 0\n",
    "  \\end{equation}"
   ]
  },
  {
   "cell_type": "markdown",
   "metadata": {},
   "source": [
    "#### Passivity"
   ]
  },
  {
   "cell_type": "markdown",
   "metadata": {},
   "source": [
    "The following statements are equivalent:\n",
    "\n",
    "- System () is strictly dissipative with the supply rate:\n",
    "  \\begin{equation}\n",
    "  s(w,z)= w^\\text{T} z+z^\\text{T} w=2w^\\text{T} z\n",
    "  \\end{equation}\n",
    "- For all $\\omega\\in\\mathbb{R}$ with $\\det(j\\omega I-A)\\neq 0$, there holds:\n",
    "  \\begin{equation}\n",
    "  T(j\\omega)^\\star+T(j\\omega)>0\n",
    "  \\end{equation}\n",
    "- There exists $P>0$ satisfying the LMI:\n",
    "  \\begin{equation}\n",
    "  \\left[\\begin{matrix} A^\\text{T} P+PA & PB-C^\\text{T}\\\\\\\\B^\\text{T} P-C & D+D^\\text{T} \\end{matrix}\\right] < 0\n",
    "  \\end{equation}\n",
    "- If $D=0$, there exists $P>0$ satisfying:\n",
    "  \\begin{align}\n",
    "  A^\\text{T}P+PA<0\\nonumber\\\\\n",
    "  PB=C^\\text{T}\n",
    "  \\end{align}\n",
    "- System () is RLC realizable, i.e. there exists an RLC network with transfer function $T(j\\omega)$.\n",
    "- For SISO systems:\n",
    "  \\begin{equation}\n",
    "  |\\angle G(j\\omega)| < 90^\\circ, \\text{Re}(G(j\\omega))>0\n",
    "  \\end{equation}\n",
    "- Gain margin of system () is infinite.\n",
    "\n",
    "One of the properties of passive systems is that the feedback connection of two passive systems is always stable (the loop phase is less than 180 degrees)."
   ]
  },
  {
   "cell_type": "markdown",
   "metadata": {},
   "source": [
    "#### $\\mathcal{H}_\\infty$ Gain (Bounded $L_2\\rightarrow$ Bounded $L_2$)"
   ]
  },
  {
   "cell_type": "markdown",
   "metadata": {},
   "source": [
    "The following statements are equivalent:\n",
    "\n",
    "- The system is strictly dissipative with the supply rate:\n",
    "  \\begin{equation}\n",
    "  s(w,z)=\\gamma^2 w^\\text{T} w-z^\\text{T} z\n",
    "  \\end{equation}\n",
    "- For all $\\omega\\in\\mathbb{R}$:\n",
    "  \\begin{equation}\n",
    "  \\|T(j\\omega)\\|_\\infty=\\sup_{0<\\|w\\|_2<\\infty}\\frac{\\|z\\|_2}{\\|w\\|_2} \\lt \\gamma\n",
    "  \\end{equation}\n",
    "- There exists $P>0$ satisfying the LMI:\n",
    "  \\begin{equation}\n",
    "  \\left[\\begin{matrix} A^\\text{T} P+PA+C^\\text{T} C & PB+C^\\text{T} D\\\\\\\\B^\\text{T} P+D^\\text{T} C & D^\\text{T} D-\\gamma^2 I \\end{matrix}\\right]< 0\n",
    "  \\end{equation}\n",
    "- There exists $P>0$ satisfying the LMI:\n",
    "  \\begin{equation}\n",
    "  \\left[\\begin{matrix} A^\\text{T} P+PA & PB & C^\\text{T}\\\\B^\\text{T} P  & -\\gamma^2 I & D^\\text{T}\\\\C&D&-I \\end{matrix}\\right]< 0\n",
    "  \\end{equation}"
   ]
  },
  {
   "cell_type": "markdown",
   "metadata": {},
   "source": [
    "#### $\\mathcal{H}_\\infty$ State Feedback Controller"
   ]
  },
  {
   "cell_type": "markdown",
   "metadata": {},
   "source": [
    "Consider the following linear system:\n",
    "\\begin{align}\n",
    "\\dot x=&Ax+B_ww+B_uu\\nonumber\\\\\n",
    "z =&C_zx+D_ww+D_uu \n",
    "\\end{align}\n",
    "where $u$ is the control input. We would like to design a controller of the form $u=Kx$ such that for the closed loop system:\n",
    "\\begin{equation}\n",
    "\\sup_{\\|w\\|_2\\neq 0}\\frac{\\|z\\|_2}{\\|w\\|_2}<\\gamma\n",
    "\\end{equation}\n",
    "The design problem can be formulated as the following matrix inequality:\n",
    "\\begin{equation}\n",
    "Q>0\n",
    "\\end{equation}\n",
    "\\begin{equation}\n",
    "\\left[\\begin{matrix} AQ+Qa^\\text{T}+B_uY+Y^\\text{T}B_u^\\text{T}+B_wB_w^\\text{T} & \n",
    "(C_zQ+D_{zu}Y+D_wB_w^\\text{T})^\\text{T}\\\\C_zQ+D_uY+D_wB_w^\\text{T} & D_w D_w^\\text{T}-\\gamma^2 I \\end{matrix}\\right]< 0\n",
    "\\end{equation}\n",
    "where $K=YQ^{-1}$\n",
    "\n",
    "**Proof:** It can easily be shown that the $\\mathcal{H}_\\infty$ norm of  the system is less than $\\gamma$ if it is dissipative with the following supply rate:\n",
    "\\begin{equation}\n",
    "s(w,z)=w^\\text{T} w-\\frac{1}{\\gamma^2}z^\\text{T} z\n",
    "\\end{equation}\n",
    "Using this supply rate, the LMI's can be written as:\n",
    "\\begin{equation}\n",
    "P>0\n",
    "\\end{equation}\n",
    "\\begin{equation}\n",
    "\\left[\\begin{matrix} A^\\text{T} P+PA & PB & C^\\text{T}\\\\B^\\text{T} P  & - I & D^\\text{T}\\\\C&D&-\\gamma^2I \\end{matrix}\\right]< 0\n",
    "\\end{equation}\n",
    "Now, if we write the same LMI for the closed loop system, we have:\n",
    "\\begin{equation}\n",
    "P>0\n",
    "\\end{equation}\n",
    "\\begin{equation}\n",
    "\\left[\\begin{matrix} (A+B_u{\\color{red} K})^\\text{T} {\\color{red} P}+{\\color{red} P}(A+B_u{\\color{red} K}) & {\\color{red} P}B_w & (C+D_u{\\color{red} K})^\\text{T}\\\\B_w^\\text{T} {\\color{red} P}  & - I & D_w^\\text{T}\\\\C+D_u{\\color{red} K}&D_w&-\\gamma^2I \\end{matrix}\\right]< 0\n",
    "\\end{equation}\n",
    "Again, this is a BMI. To formulate the problem as a LMI, let multiply both sides of the inequality by:\n",
    "\\begin{equation}\n",
    "\\left[\\begin{matrix}Q & 0& 0\\\\0&I&0\\\\0&0& I\\end{matrix}\\right]\n",
    "\\end{equation}\n",
    "where $Q=P^{-1}$. The result is:\n",
    "\\begin{equation}\n",
    "\\left[\\begin{matrix} {\\color{red} Q}(A+B_u{\\color{red} K})^\\text{T} +(A+B_u{\\color{red} K}){\\color{red} Q} & B_w & {\\color{red} Q}(C+D_u{\\color{red} K})^\\text{T}\\\\B_w^\\text{T}  & - I & D_w^\\text{T}\\\\(C+D_u{\\color{red} K}){\\color{red} Q}&D_w&-\\gamma^2I \\end{matrix}\\right]< 0\n",
    "\\end{equation}\n",
    "Now, if we define $Y=KQ$, we have the following LMI:\n",
    "\\begin{equation}\n",
    "\\left[\\begin{matrix} {\\color{red} Q}A^\\text{T} +A{\\color{red} Q}+Y^\\text{T}B_u^\\text{T}+B_u{\\color{red} Y} & B_w & {\\color{red} Q}C^\\text{T}+{\\color{red} Y}^\\text{T}D_u^\\text{T}\\\\B_w^\\text{T}  & - I & D_w^\\text{T}\\\\C{\\color{red} Q}+D_u{\\color{red} Y}&D_w&-\\gamma^2I \\end{matrix}\\right]< 0\n",
    "\\end{equation}\n",
    "This LMI can be rearranged as:\n",
    "\\begin{equation}\n",
    "\\left[\\begin{matrix} A{\\color{red} Q}+{\\color{red} Q}A^\\text{T} +B_u{\\color{red} Y}+Y^\\text{T}B_u^\\text{T} & {\\color{red} Q}C^\\text{T}+{\\color{red} Y}^\\text{T}D_u^\\text{T} & B_w \\\\C{\\color{red} Q}+D_u{\\color{red} Y}&-\\gamma^2I&D_w\\\\B_w^\\text{T} & D_w^\\text{T} & - I \\end{matrix}\\right]< 0\n",
    "\\end{equation}\n",
    "Using the Schur complement, we can now write the LMI as:\n",
    "\\begin{equation}\n",
    "\\left[\\begin{matrix} A{\\color{red} Q}+{\\color{red} Q}A^\\text{T} +B_u{\\color{red} Y}+{\\color{red} Y}^\\text{T}B_u^\\text{T}+B_wB_w^\\text{T} & {\\color{red} Q}C^\\text{T}+{\\color{red} Y}^\\text{T}D_u^\\text{T}+B_wD_w^\\text{T} \\\\C{\\color{red} Q}+D_u{\\color{red} Y}+D_wB_w^\\text{T}&-\\gamma^2I+D_wD_w^\\text{T} \\end{matrix}\\right]< 0\n",
    "\\end{equation}\n",
    "This LMI is the same as we were looking for and it ends the proof."
   ]
  },
  {
   "cell_type": "markdown",
   "metadata": {},
   "source": [
    "#### Generalized $\\mathcal{H}_2$ Gain (Bounded $L_2\\rightarrow$ Bounded $L_\\infty$)"
   ]
  },
  {
   "cell_type": "markdown",
   "metadata": {},
   "source": [
    "If $D=0$ then the following statements are equivalent:\n",
    "\n",
    "- System () is strictly dissipative with the supply rate:\n",
    "  \\begin{equation}\n",
    "  s(w,z)=w^\\text{T}w\n",
    "  \\end{equation}\n",
    "- For all $\\omega\\in\\mathbb{R}$:\n",
    "  \\begin{equation}\n",
    "  \\|T(j\\omega)\\|_{2,\\infty}=\\sup_{0 < \\|w\\|_2 < \\infty}\\frac{\\|z\\|_\\infty}{\\|w\\|_2} < \\gamma\n",
    "  \\end{equation}\n",
    "- There exists $P$ satisfying the LMIs:\n",
    "  \\begin{equation}\n",
    "  \\left[\\begin{matrix} A^\\text{T} P+PA&PB\\\\\\\\B^\\text{T} P& -I\\end{matrix}\\right] \\lt 0\\nonumber\\\\\n",
    "  \\left[\\begin{matrix} P&C^\\text{T}\\\\\\\\C&\\gamma^2 I\\end{matrix}\\right] \\gt 0\n",
    "  \\end{equation}"
   ]
  },
  {
   "cell_type": "markdown",
   "metadata": {},
   "source": [
    "#### Generalized $\\mathcal{H}_2$ State Feedback Controller"
   ]
  },
  {
   "cell_type": "markdown",
   "metadata": {},
   "source": [
    "Consider the following linear system:\n",
    "\\begin{align}\n",
    "\\dot x=&Ax+B_ww+B_uu\\nonumber\\\\\n",
    "z =&C_zx+D_uu \n",
    "\\end{align}\n",
    "where $u$ is the control input. We would like to design a controller of the form $u=Kx$ such that for the closed loop system:\n",
    "\\begin{equation}\n",
    "\\sup_{\\|w\\|_2\\neq 0}\\frac{\\|z\\|_\\infty}{\\|w\\|_2}<\\gamma\n",
    "\\end{equation}\n",
    "The design problem can be formulated as the following matrix inequality:\n",
    "\\begin{equation}\n",
    "  \\left[\\begin{matrix} AQ+QA^\\text{T}+B_uY+Y^\\text{T}B_u^\\text{T}&B_w\\\\\\\\B_w^\\text{T}& -I\\end{matrix}\\right] \\lt 0\\nonumber\\\\\n",
    "  \\left[\\begin{matrix} Q&QC^\\text{T}+Y^\\text{T}D_u^\\text{T}\\\\\\\\CQ+D_uY&\\gamma^2 I\\end{matrix}\\right] \\gt 0\n",
    "\\end{equation}\n",
    "where $K=YQ^{-1}$"
   ]
  },
  {
   "cell_type": "markdown",
   "metadata": {},
   "source": [
    "## References"
   ]
  },
  {
   "cell_type": "markdown",
   "metadata": {},
   "source": [
    "1. Boyd, Stephen P. and Lieven Vandenberghe. Convex optimization. Cambridge university press, 2004.\n",
    "2. Scherer, Carsten and Weiland, Siep. Linear Matrix Inequalities in Control, Delft Center for Systems and Control, 2005.\n",
    "3. Boyd, Stephen P. Linear matrix inequalities in system and control theory. Vol. 15. Siam, 1994.\n",
    "4. Scherer, Carsten, Pascal Gahinet, and Mahmoud Chilali. \"Multiobjective output-feedback control via LMI optimization.\" Automatic Control, IEEE Transactions on 42.7 (1997): 896-911."
   ]
  }
 ],
 "metadata": {
  "kernelspec": {
   "display_name": "Python 3",
   "language": "python",
   "name": "python3"
  },
  "language_info": {
   "codemirror_mode": {
    "name": "ipython",
    "version": 3
   },
   "file_extension": ".py",
   "mimetype": "text/x-python",
   "name": "python",
   "nbconvert_exporter": "python",
   "pygments_lexer": "ipython3",
   "version": "3.6.9"
  }
 },
 "nbformat": 4,
 "nbformat_minor": 1
}
